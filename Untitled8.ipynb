{
 "cells": [
  {
   "cell_type": "code",
   "execution_count": null,
   "id": "64138787",
   "metadata": {},
   "outputs": [],
   "source": [
    "from django.db import connection, reset_queries\n",
    "from registros.models import LOTE,LOTE_DET\n",
    "import time\n",
    "\n",
    "start_time = time.time()\n",
    "\n",
    "lista = LOTE_DET.objects.all().prefetch_related()\n",
    "for l in lista:\n",
    "   lote_lote = l.lode_lote \n",
    "\n",
    "\n",
    "\n",
    "print (lista.query)\n",
    "\n",
    "end_time=time.time()\n",
    "duration=(end_time - start_time)\n",
    "print(f'Executou um total de {len(connection.queries)}Queries')\n",
    "print(f'Tempo de Execuçao {round(duration, 3)}Segundos')\n",
    "reset_queries()"
   ]
  },
  {
   "cell_type": "code",
   "execution_count": null,
   "id": "0b934d11",
   "metadata": {},
   "outputs": [],
   "source": []
  }
 ],
 "metadata": {
  "kernelspec": {
   "display_name": "Django Shell-Plus",
   "language": "python",
   "name": "django_extensions"
  },
  "language_info": {
   "codemirror_mode": {
    "name": "ipython",
    "version": 3
   },
   "file_extension": ".py",
   "mimetype": "text/x-python",
   "name": "python",
   "nbconvert_exporter": "python",
   "pygments_lexer": "ipython3",
   "version": "3.8.8"
  }
 },
 "nbformat": 4,
 "nbformat_minor": 5
}
