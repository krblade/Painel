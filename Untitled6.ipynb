{
 "cells": [
  {
   "cell_type": "code",
   "execution_count": null,
   "id": "696515d1",
   "metadata": {},
   "outputs": [],
   "source": [
    "from django.db import connection, reset_queries\n",
    "from registros.models import LOTE,LOTE_DET\n",
    "import time\n",
    "\n",
    "start_time = time.time()\n",
    "\n",
    "lista = LOTE.objects.prefetch_related()\n",
    "for l in lista:\n",
    "   gere_nome = l.lote_gerencia \n",
    "\n",
    "\n",
    "\n",
    "print (lista.query)\n",
    "\n",
    "end_time=time.time()\n",
    "duration=(end_time - start_time)\n",
    "print(f'Executou um total de {len(connection.queries)}Queries')\n",
    "print(f'Tempo de Execuçao {round(duration, 3)}Segundos')\n",
    "reset_queries()"
   ]
  },
  {
   "cell_type": "code",
   "execution_count": null,
   "id": "e6d42ca7",
   "metadata": {},
   "outputs": [],
   "source": []
  }
 ],
 "metadata": {
  "kernelspec": {
   "display_name": "Django Shell-Plus",
   "language": "python",
   "name": "django_extensions"
  },
  "language_info": {
   "codemirror_mode": {
    "name": "ipython",
    "version": 3
   },
   "file_extension": ".py",
   "mimetype": "text/x-python",
   "name": "python",
   "nbconvert_exporter": "python",
   "pygments_lexer": "ipython3",
   "version": "3.8.8"
  }
 },
 "nbformat": 4,
 "nbformat_minor": 5
}
