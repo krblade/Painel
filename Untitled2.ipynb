{
 "cells": [
  {
   "cell_type": "code",
   "execution_count": 1,
   "id": "77b84d6e",
   "metadata": {},
   "outputs": [],
   "source": [
    "from registros.models import LOTE"
   ]
  },
  {
   "cell_type": "code",
   "execution_count": 2,
   "id": "10062612",
   "metadata": {},
   "outputs": [],
   "source": [
    "lotes= LOTE.objects.all()"
   ]
  },
  {
   "cell_type": "code",
   "execution_count": 3,
   "id": "93cf1eaa",
   "metadata": {},
   "outputs": [
    {
     "data": {
      "text/plain": [
       "<QuerySet [<LOTE: 190002-A>, <LOTE: 190003-A>, <LOTE: 190003.3-A>, <LOTE: 190003.2-A>, <LOTE: 190003-B>, <LOTE: 190003-C>, <LOTE: 190004-A>, <LOTE: 190004-B>, <LOTE: 190004-C>, <LOTE: 190005-C>, <LOTE: 190005-A>, <LOTE: 190005-B>, <LOTE: 190005.2-B>, <LOTE: 190006-A>, <LOTE: 190006-B>, <LOTE: 190006.2-B>, <LOTE: 190006-C>, <LOTE: 190006.2-C>, <LOTE: 190007-C>, <LOTE: 190007-B>, '...(remaining elements truncated)...']>"
      ]
     },
     "execution_count": 3,
     "metadata": {},
     "output_type": "execute_result"
    }
   ],
   "source": [
    "lotes"
   ]
  },
  {
   "cell_type": "code",
   "execution_count": null,
   "id": "f32c27cf",
   "metadata": {},
   "outputs": [],
   "source": []
  }
 ],
 "metadata": {
  "kernelspec": {
   "display_name": "Django Shell-Plus",
   "language": "python",
   "name": "django_extensions"
  },
  "language_info": {
   "codemirror_mode": {
    "name": "ipython",
    "version": 3
   },
   "file_extension": ".py",
   "mimetype": "text/x-python",
   "name": "python",
   "nbconvert_exporter": "python",
   "pygments_lexer": "ipython3",
   "version": "3.8.8"
  }
 },
 "nbformat": 4,
 "nbformat_minor": 5
}
