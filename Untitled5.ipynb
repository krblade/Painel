{
 "cells": [
  {
   "cell_type": "code",
   "execution_count": 19,
   "source": [
    "import os  \r\n",
    "os.environ.setdefault('DJANGO_SETTINGS_MODULE', 'PainelSAM.settings')\r\n",
    "import django\r\n",
    "django.setup()\r\n",
    "from registros.models import LOTE,DISPUTA_ABERTA,COMPRADOR,LEILAO\r\n",
    "from django.db import connection, reset_queries\r\n",
    "from django.db.models import Q\r\n",
    "import time\r\n",
    "\r\n",
    "start_time = time.time()\r\n",
    "\r\n",
    "queryX= Q(lote_lote=0)\r\n",
    "lista = DISPUTA_ABERTA.objects.select_related('diab_lote','diab_comprador')\r\n",
    "for p in lista:\r\n",
    "          queryX.add(Q(lote_lote=p.diab_lote), Q.OR)\r\n",
    "\r\n",
    "queryZ= Q(lote_leilao=0)\r\n",
    "lista2 = LEILAO.objects.prefetch_related()\r\n",
    "for p in lista2:\r\n",
    "          queryZ.add(Q(lote_leilao=p.id), Q.OR)\r\n",
    "\r\n",
    "listaq = LOTE.objects.filter(queryX,queryZ) \r\n",
    "print (listaq.query)\r\n",
    "\r\n",
    "end_time=time.time()\r\n",
    "duration=(end_time - start_time)\r\n",
    "print(f'Executou um total de {len(connection.queries)}Queries')\r\n",
    "print(f'Tempo de Execuçao {round(duration, 3)}Segundos')\r\n",
    "reset_queries()"
   ],
   "outputs": [
    {
     "output_type": "stream",
     "name": "stdout",
     "text": [
      "SELECT \"registros_lote\".\"lote_lote\", \"registros_lote\".\"lote_gerencia_id\", \"registros_lote\".\"lote_proprietario\", \"registros_lote\".\"lote_al\", \"registros_lote\".\"lote_ano\", \"registros_lote\".\"lote_responsavel_id\", \"registros_lote\".\"lote_alienacaoAutorizada\", \"registros_lote\".\"lote_quantidadeFoto\", \"registros_lote\".\"lote_localArmazenamento\", \"registros_lote\".\"lote_isaSipa\", \"registros_lote\".\"lote_dataSipa\", \"registros_lote\".\"lote_tipoVenda\", \"registros_lote\".\"lote_leilao_id\", \"registros_lote\".\"lote_isaEnvioArm\", \"registros_lote\".\"lote_dataEnvoArm\", \"registros_lote\".\"lote_vmaLote\" FROM \"registros_lote\" WHERE ((\"registros_lote\".\"lote_lote\" = 0 OR \"registros_lote\".\"lote_lote\" = C200410A OR \"registros_lote\".\"lote_lote\" = C200397 OR \"registros_lote\".\"lote_lote\" = C200398 OR \"registros_lote\".\"lote_lote\" = C200399 OR \"registros_lote\".\"lote_lote\" = C200407 OR \"registros_lote\".\"lote_lote\" = C200415 OR \"registros_lote\".\"lote_lote\" = 212440006 OR \"registros_lote\".\"lote_lote\" = 212440010 OR \"registros_lote\".\"lote_lote\" = 212440012 OR \"registros_lote\".\"lote_lote\" = 212440014 OR \"registros_lote\".\"lote_lote\" = 212440016 OR \"registros_lote\".\"lote_lote\" = 212440017 OR \"registros_lote\".\"lote_lote\" = 212440018 OR \"registros_lote\".\"lote_lote\" = 212440022 OR \"registros_lote\".\"lote_lote\" = 212440026 OR \"registros_lote\".\"lote_lote\" = 212440030 OR \"registros_lote\".\"lote_lote\" = 212440035 OR \"registros_lote\".\"lote_lote\" = 212390098 OR \"registros_lote\".\"lote_lote\" = 212390028 OR \"registros_lote\".\"lote_lote\" = 212390003 OR \"registros_lote\".\"lote_lote\" = 212390197 OR \"registros_lote\".\"lote_lote\" = 212390200 OR \"registros_lote\".\"lote_lote\" = 212390210 OR \"registros_lote\".\"lote_lote\" = 212340001 OR \"registros_lote\".\"lote_lote\" = 212390036 OR \"registros_lote\".\"lote_lote\" = 212390039 OR \"registros_lote\".\"lote_lote\" = 212390177 OR \"registros_lote\".\"lote_lote\" = 212390027 OR \"registros_lote\".\"lote_lote\" = 212190186 OR \"registros_lote\".\"lote_lote\" = 212390008 OR \"registros_lote\".\"lote_lote\" = 212390217 OR \"registros_lote\".\"lote_lote\" = 212390099 OR \"registros_lote\".\"lote_lote\" = 212390109 OR \"registros_lote\".\"lote_lote\" = 212390031 OR \"registros_lote\".\"lote_lote\" = 212390222 OR \"registros_lote\".\"lote_lote\" = 212390007 OR \"registros_lote\".\"lote_lote\" = 212390030 OR \"registros_lote\".\"lote_lote\" = 212390022 OR \"registros_lote\".\"lote_lote\" = 212390035 OR \"registros_lote\".\"lote_lote\" = 212390111 OR \"registros_lote\".\"lote_lote\" = 212390009 OR \"registros_lote\".\"lote_lote\" = 212390020 OR \"registros_lote\".\"lote_lote\" = 212390075 OR \"registros_lote\".\"lote_lote\" = 212390220 OR \"registros_lote\".\"lote_lote\" = 212390032 OR \"registros_lote\".\"lote_lote\" = 211140001 OR \"registros_lote\".\"lote_lote\" = 211140003 OR \"registros_lote\".\"lote_lote\" = 211190004 OR \"registros_lote\".\"lote_lote\" = 211190013 OR \"registros_lote\".\"lote_lote\" = 211190014 OR \"registros_lote\".\"lote_lote\" = 211190015 OR \"registros_lote\".\"lote_lote\" = 211190021 OR \"registros_lote\".\"lote_lote\" = 211190022 OR \"registros_lote\".\"lote_lote\" = 211190026 OR \"registros_lote\".\"lote_lote\" = 211190027 OR \"registros_lote\".\"lote_lote\" = 211190045 OR \"registros_lote\".\"lote_lote\" = 211190046 OR \"registros_lote\".\"lote_lote\" = 211190049 OR \"registros_lote\".\"lote_lote\" = 211190050 OR \"registros_lote\".\"lote_lote\" = 211190051 OR \"registros_lote\".\"lote_lote\" = 211190053 OR \"registros_lote\".\"lote_lote\" = 211190054 OR \"registros_lote\".\"lote_lote\" = 211190055 OR \"registros_lote\".\"lote_lote\" = 211190086 OR \"registros_lote\".\"lote_lote\" = 211190087 OR \"registros_lote\".\"lote_lote\" = 211190088 OR \"registros_lote\".\"lote_lote\" = 211190089 OR \"registros_lote\".\"lote_lote\" = 211590010 OR \"registros_lote\".\"lote_lote\" = 211590020 OR \"registros_lote\".\"lote_lote\" = 211590076 OR \"registros_lote\".\"lote_lote\" = 211590100 OR \"registros_lote\".\"lote_lote\" = 211590112 OR \"registros_lote\".\"lote_lote\" = 211590114 OR \"registros_lote\".\"lote_lote\" = 211640002 OR \"registros_lote\".\"lote_lote\" = 211640006 OR \"registros_lote\".\"lote_lote\" = 211640007 OR \"registros_lote\".\"lote_lote\" = 211640008 OR \"registros_lote\".\"lote_lote\" = 211690001 OR \"registros_lote\".\"lote_lote\" = 211690003 OR \"registros_lote\".\"lote_lote\" = 211690015 OR \"registros_lote\".\"lote_lote\" = 211690017 OR \"registros_lote\".\"lote_lote\" = 211690018 OR \"registros_lote\".\"lote_lote\" = 211690020 OR \"registros_lote\".\"lote_lote\" = 211690025 OR \"registros_lote\".\"lote_lote\" = 211690030 OR \"registros_lote\".\"lote_lote\" = 211690031 OR \"registros_lote\".\"lote_lote\" = 211690032 OR \"registros_lote\".\"lote_lote\" = 211690033 OR \"registros_lote\".\"lote_lote\" = 211690035 OR \"registros_lote\".\"lote_lote\" = 211690036 OR \"registros_lote\".\"lote_lote\" = 211690071 OR \"registros_lote\".\"lote_lote\" = 211690076 OR \"registros_lote\".\"lote_lote\" = 211690089 OR \"registros_lote\".\"lote_lote\" = 211690095 OR \"registros_lote\".\"lote_lote\" = 211690097 OR \"registros_lote\".\"lote_lote\" = 211840005 OR \"registros_lote\".\"lote_lote\" = 211840011 OR \"registros_lote\".\"lote_lote\" = 211840013 OR \"registros_lote\".\"lote_lote\" = 211840014 OR \"registros_lote\".\"lote_lote\" = 211890007 OR \"registros_lote\".\"lote_lote\" = 211890009 OR \"registros_lote\".\"lote_lote\" = 211890010 OR \"registros_lote\".\"lote_lote\" = 211290016 OR \"registros_lote\".\"lote_lote\" = 211290030 OR \"registros_lote\".\"lote_lote\" = 211290034 OR \"registros_lote\".\"lote_lote\" = 211290043 OR \"registros_lote\".\"lote_lote\" = 211290049 OR \"registros_lote\".\"lote_lote\" = 211290065 OR \"registros_lote\".\"lote_lote\" = 211290068 OR \"registros_lote\".\"lote_lote\" = 211290095 OR \"registros_lote\".\"lote_lote\" = 211290120 OR \"registros_lote\".\"lote_lote\" = 211290125 OR \"registros_lote\".\"lote_lote\" = 211290135 OR \"registros_lote\".\"lote_lote\" = 211290175 OR \"registros_lote\".\"lote_lote\" = 211290185 OR \"registros_lote\".\"lote_lote\" = 211290191 OR \"registros_lote\".\"lote_lote\" = 211290261 OR \"registros_lote\".\"lote_lote\" = 211290271 OR \"registros_lote\".\"lote_lote\" = 211290278 OR \"registros_lote\".\"lote_lote\" = 211290341 OR \"registros_lote\".\"lote_lote\" = 211290438 OR \"registros_lote\".\"lote_lote\" = 211290470 OR \"registros_lote\".\"lote_lote\" = 211290507 OR \"registros_lote\".\"lote_lote\" = 211290526 OR \"registros_lote\".\"lote_lote\" = 211290556 OR \"registros_lote\".\"lote_lote\" = C200239 OR \"registros_lote\".\"lote_lote\" = C200240 OR \"registros_lote\".\"lote_lote\" = C200241 OR \"registros_lote\".\"lote_lote\" = C200248 OR \"registros_lote\".\"lote_lote\" = C200268 OR \"registros_lote\".\"lote_lote\" = C200270 OR \"registros_lote\".\"lote_lote\" = C200381 OR \"registros_lote\".\"lote_lote\" = C200387 OR \"registros_lote\".\"lote_lote\" = 211190039 OR \"registros_lote\".\"lote_lote\" = 211190039) AND (\"registros_lote\".\"lote_leilao_id\" = 0 OR \"registros_lote\".\"lote_leilao_id\" = 9 OR \"registros_lote\".\"lote_leilao_id\" = 10 OR \"registros_lote\".\"lote_leilao_id\" = 11 OR \"registros_lote\".\"lote_leilao_id\" = 12 OR \"registros_lote\".\"lote_leilao_id\" = 13 OR \"registros_lote\".\"lote_leilao_id\" = 14 OR \"registros_lote\".\"lote_leilao_id\" = 15 OR \"registros_lote\".\"lote_leilao_id\" = 16 OR \"registros_lote\".\"lote_leilao_id\" = 17))\n",
      "Executou um total de 4Queries\n",
      "Tempo de Execuçao 0.082Segundos\n"
     ]
    }
   ],
   "metadata": {}
  },
  {
   "cell_type": "code",
   "execution_count": null,
   "source": [],
   "outputs": [],
   "metadata": {}
  },
  {
   "cell_type": "code",
   "execution_count": null,
   "source": [],
   "outputs": [],
   "metadata": {}
  }
 ],
 "metadata": {
  "kernelspec": {
   "name": "python3",
   "display_name": "Python 3.8.8 64-bit ('base': conda)"
  },
  "language_info": {
   "codemirror_mode": {
    "name": "ipython",
    "version": 3
   },
   "file_extension": ".py",
   "mimetype": "text/x-python",
   "name": "python",
   "nbconvert_exporter": "python",
   "pygments_lexer": "ipython3",
   "version": "3.8.8"
  },
  "interpreter": {
   "hash": "b3ba2566441a7c06988d0923437866b63cedc61552a5af99d1f4fb67d367b25f"
  }
 },
 "nbformat": 4,
 "nbformat_minor": 5
}