{
 "cells": [
  {
   "cell_type": "code",
   "execution_count": 15,
   "source": [
    "import os  \r\n",
    "os.environ.setdefault('DJANGO_SETTINGS_MODULE', 'PainelSAM.settings')\r\n",
    "import django\r\n",
    "django.setup()\r\n",
    "from registros.models import LOTE,DISPUTA_ABERTA,COMPRADOR\r\n",
    "from django.db import connection, reset_queries\r\n",
    "\r\n",
    "import time\r\n",
    "\r\n",
    "start_time = time.time()\r\n",
    "lot= LOTE.objects.all()\r\n",
    "lotes=DISPUTA_ABERTA.objects.select_related('diab_lote','diab_comprador')\r\n",
    "for p in lotes:\r\n",
    "    lot.lote_lote = p.diab_lote \r\n",
    "\r\n",
    "print (lotes.query)\r\n",
    "\r\n",
    "end_time=time.time()\r\n",
    "duration=(end_time - start_time)\r\n",
    "print(f'Executou um total de {len(connection.queries)}Queries')\r\n",
    "print(f'Tempo de Execuçao {round(duration, 3)}Segundos')\r\n",
    "reset_queries()"
   ],
   "outputs": [
    {
     "output_type": "stream",
     "name": "stdout",
     "text": [
      "SELECT \"registros_disputa_aberta\".\"id\", \"registros_disputa_aberta\".\"diab_lote_id\", \"registros_disputa_aberta\".\"diab_comprador_id\", \"registros_disputa_aberta\".\"diab_comunicadoVendaEnviado\", \"registros_disputa_aberta\".\"diab_valorVendaLanceTotal\", \"registros_disputa_aberta\".\"diab_valorVendaSab\", \"registros_disputa_aberta\".\"diab_prazoPagamento\", \"registros_disputa_aberta\".\"diab_dataPagamento\", \"registros_disputa_aberta\".\"diab_valorPago\", \"registros_disputa_aberta\".\"diab_lanceUnitario\", \"registros_disputa_aberta\".\"diab_lanceTotal\", \"registros_lote\".\"lote_lote\", \"registros_lote\".\"lote_gerencia_id\", \"registros_lote\".\"lote_proprietario\", \"registros_lote\".\"lote_al\", \"registros_lote\".\"lote_ano\", \"registros_lote\".\"lote_responsavel_id\", \"registros_lote\".\"lote_alienacaoAutorizada\", \"registros_lote\".\"lote_quantidadeFoto\", \"registros_lote\".\"lote_localArmazenamento\", \"registros_lote\".\"lote_isaSipa\", \"registros_lote\".\"lote_dataSipa\", \"registros_lote\".\"lote_tipoVenda\", \"registros_lote\".\"lote_leilao_id\", \"registros_lote\".\"lote_isaEnvioArm\", \"registros_lote\".\"lote_dataEnvoArm\", \"registros_lote\".\"lote_vmaLote\", \"registros_comprador\".\"id\", \"registros_comprador\".\"comp_nomeComprador\", \"registros_comprador\".\"comp_estado\", \"registros_comprador\".\"comp_cidade\", \"registros_comprador\".\"comp_endereco\", \"registros_comprador\".\"comp_cnpj\", \"registros_comprador\".\"comp_telefoneComercial\", \"registros_comprador\".\"comp_telefoneResidencial\", \"registros_comprador\".\"comp_email\", \"registros_comprador\".\"comp_celular\", \"registros_comprador\".\"comp_codigoSap\" FROM \"registros_disputa_aberta\" INNER JOIN \"registros_lote\" ON (\"registros_disputa_aberta\".\"diab_lote_id\" = \"registros_lote\".\"lote_lote\") LEFT OUTER JOIN \"registros_comprador\" ON (\"registros_disputa_aberta\".\"diab_comprador_id\" = \"registros_comprador\".\"id\")\n",
      "Executou um total de 1Queries\n",
      "Tempo de Execuçao 0.033Segundos\n"
     ]
    }
   ],
   "metadata": {}
  },
  {
   "cell_type": "code",
   "execution_count": null,
   "source": [],
   "outputs": [],
   "metadata": {}
  },
  {
   "cell_type": "code",
   "execution_count": null,
   "source": [],
   "outputs": [],
   "metadata": {}
  }
 ],
 "metadata": {
  "kernelspec": {
   "name": "python3",
   "display_name": "Python 3.8.8 64-bit ('base': conda)"
  },
  "language_info": {
   "codemirror_mode": {
    "name": "ipython",
    "version": 3
   },
   "file_extension": ".py",
   "mimetype": "text/x-python",
   "name": "python",
   "nbconvert_exporter": "python",
   "pygments_lexer": "ipython3",
   "version": "3.8.8"
  },
  "interpreter": {
   "hash": "b3ba2566441a7c06988d0923437866b63cedc61552a5af99d1f4fb67d367b25f"
  }
 },
 "nbformat": 4,
 "nbformat_minor": 5
}