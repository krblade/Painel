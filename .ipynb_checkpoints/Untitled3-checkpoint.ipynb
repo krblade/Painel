{
 "cells": [
  {
   "cell_type": "code",
   "execution_count": 5,
   "id": "5a8a1f9c",
   "metadata": {},
   "outputs": [
    {
     "name": "stdout",
     "output_type": "stream",
     "text": [
      "Executou um total de 0Queries\n",
      "Tempo de Execuçao 0.0Segundos\n"
     ]
    }
   ],
   "source": [
    "from django.db import connection, reset_queries\n",
    "import time\n",
    "\n",
    "start_time = time.time()\n",
    "\n",
    "\n",
    "end_time=time.time()\n",
    "duration=(end_time - start_time)\n",
    "print(f'Executou um total de {len(connection.queries)}Queries')\n",
    "print(f'Tempo de Execuçao {round(duration, 3)}Segundos')"
   ]
  },
  {
   "cell_type": "code",
   "execution_count": null,
   "id": "d8e0cf8d",
   "metadata": {},
   "outputs": [],
   "source": []
  }
 ],
 "metadata": {
  "kernelspec": {
   "display_name": "Django Shell-Plus",
   "language": "python",
   "name": "django_extensions"
  },
  "language_info": {
   "codemirror_mode": {
    "name": "ipython",
    "version": 3
   },
   "file_extension": ".py",
   "mimetype": "text/x-python",
   "name": "python",
   "nbconvert_exporter": "python",
   "pygments_lexer": "ipython3",
   "version": "3.8.8"
  }
 },
 "nbformat": 4,
 "nbformat_minor": 5
}
