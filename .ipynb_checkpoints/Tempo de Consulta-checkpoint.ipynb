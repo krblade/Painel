{
 "cells": [
  {
   "cell_type": "code",
   "execution_count": 19,
   "id": "fb7984a7",
   "metadata": {},
   "outputs": [
    {
     "name": "stdout",
     "output_type": "stream",
     "text": [
      "Executou um total de 5Queries\n",
      "Tempo de Execuçao 1.448Segundos\n"
     ]
    }
   ],
   "source": [
    "from registros.models import LOTE,LOTE_DET\n",
    "from django.db import connection, reset_queries\n",
    "\n",
    "import time\n",
    "\n",
    "start_time = time.time()\n",
    "\n",
    "lote=LOTE.objects.all()\n",
    "for p in lote:\n",
    "    lote_lote = p.lode_lote  \n",
    "\n",
    "\n",
    "\n",
    "end_time=time.time()\n",
    "duration=(end_time - start_time)\n",
    "print(f'Executou um total de {len(connection.queries)}Queries')\n",
    "print(f'Tempo de Execuçao {round(duration, 3)}Segundos')\n",
    "reset_queries()"
   ]
  },
  {
   "cell_type": "code",
   "execution_count": null,
   "id": "47dc348e",
   "metadata": {},
   "outputs": [],
   "source": []
  }
 ],
 "metadata": {
  "kernelspec": {
   "display_name": "Django Shell-Plus",
   "language": "python",
   "name": "django_extensions"
  },
  "language_info": {
   "codemirror_mode": {
    "name": "ipython",
    "version": 3
   },
   "file_extension": ".py",
   "mimetype": "text/x-python",
   "name": "python",
   "nbconvert_exporter": "python",
   "pygments_lexer": "ipython3",
   "version": "3.8.8"
  }
 },
 "nbformat": 4,
 "nbformat_minor": 5
}
